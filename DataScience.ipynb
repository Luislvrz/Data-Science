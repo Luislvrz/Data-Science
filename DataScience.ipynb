{
 "cells": [
  {
   "cell_type": "markdown",
   "id": "60d0e416-af9d-49d5-8b1c-db31e0c5ce57",
   "metadata": {
    "tags": []
   },
   "source": [
    "# Data Science Exploration with Jupyterlite Notebook"
   ]
  },
  {
   "cell_type": "markdown",
   "id": "a4e46543-38ac-4627-92c5-edb286bc767f",
   "metadata": {},
   "source": [
    "Welcome to exploring data science with Jupyterlite Notebook! Throughout this notebook, we will delve into data science languages, libraries, and tools."
   ]
  },
  {
   "cell_type": "markdown",
   "id": "ca9bf0d0-fef4-411c-b3a4-c2b794fbdd74",
   "metadata": {},
   "source": [
    "## Data Science Languages:\n",
    "1. Python\n",
    "2. R\n",
    "3. Julia\n",
    "4. SQL\n",
    "5. Scala\n",
    "6. MATLAB\n",
    "7. Java\n",
    "8. JavaScript"
   ]
  },
  {
   "cell_type": "markdown",
   "id": "b3de3dc1-7043-48d2-af1d-6f7f61c21058",
   "metadata": {
    "tags": []
   },
   "source": [
    "## Data Science Libraries:\n",
    "- Pandas\n",
    "- NumPy\n",
    "- Matplotlib\n",
    "- Seaborn\n",
    "- Scikit-learn\n",
    "- TensorFlow\n",
    "- Keras\n",
    "- PyTorch"
   ]
  },
  {
   "cell_type": "markdown",
   "id": "9bc0f2cb-b44c-41ea-a9bd-0f5ed96e10fa",
   "metadata": {},
   "source": [
    "## Data Science Tools:\n",
    "| Tool               | Description                                       |\n",
    "|--------------------|---------------------------------------------------|\n",
    "| Jupyter Notebook   | Interactive environment for data science          |\n",
    "| RStudio            | IDE for R programming language                    |\n",
    "| Anaconda           | Python distribution for data science              |\n",
    "| Power BI           | Microsoft's data analytics tool                   |\n",
    "| Apache Hadoop      | Framework for distributed storage and processing |\n",
    "| Apache Spark       | Distributed data processing engine                "
   ]
  },
  {
   "cell_type": "markdown",
   "id": "2ed110e5",
   "metadata": {},
   "source": [
    "## Examples of arithmetic expressions: "
   ]
  },
  {
   "cell_type": "code",
   "execution_count": 1,
   "id": "29cdfd71",
   "metadata": {},
   "outputs": [
    {
     "name": "stdout",
     "output_type": "stream",
     "text": [
      "41.0\n",
      "13.0\n"
     ]
    }
   ],
   "source": [
    "# Expression 1: (10 * 3) + (4**2) - (15 / 3)\n",
    "Result_one = ((10 * 3) + (4**2) - (15 / 3))\n",
    "print(Result_one)\n",
    "\n",
    "# Expression 2: (25 / 5) + (2 * 6) - (7 - 3)\n",
    "Result_two = ((25 / 5) + (2 * 6) - (7 - 3))\n",
    "print(Result_two)"
   ]
  },
  {
   "cell_type": "markdown",
   "id": "ee8fa6ed",
   "metadata": {},
   "source": [
    "## Multiply and add numbers:"
   ]
  },
  {
   "cell_type": "code",
   "execution_count": 2,
   "id": "67d50014",
   "metadata": {},
   "outputs": [
    {
     "name": "stdout",
     "output_type": "stream",
     "text": [
      "Result of multiplication: 35\n",
      "Result of addition: 20\n"
     ]
    }
   ],
   "source": [
    "# Multiply two numbers\n",
    "result_multiply = 5 * 7\n",
    "print(\"Result of multiplication:\", result_multiply)\n",
    "\n",
    "# Add two numbers\n",
    "result_add = 12 + 8\n",
    "print(\"Result of addition:\", result_add)"
   ]
  },
  {
   "cell_type": "markdown",
   "id": "bbf66a5f",
   "metadata": {},
   "source": [
    "## Convert minutes to hours:"
   ]
  },
  {
   "cell_type": "code",
   "execution_count": 4,
   "id": "4c9a8937",
   "metadata": {},
   "outputs": [
    {
     "name": "stdout",
     "output_type": "stream",
     "text": [
      "135 minutes is equal to 2.25 hours.\n"
     ]
    }
   ],
   "source": [
    "# Define the number of minutes\n",
    "minutes = 135\n",
    "\n",
    "# Convert minutes to hours\n",
    "hours = minutes / 60\n",
    "\n",
    "# Print the result\n",
    "print(\"135 minutes is equal to\", hours, \"hours.\")"
   ]
  },
  {
   "cell_type": "markdown",
   "id": "9cc3ed96",
   "metadata": {},
   "source": [
    "## Objectives:\n",
    "1. Understand the basics of data science\n",
    "2. Learn how to use Jupyterlite Notebook for data analysis\n",
    "3. Practice with different programming languages and libraries\n",
    "4. Gain hands-on experience with real-world datasets\n",
    "5. Learn how to share data science projects via GitHub"
   ]
  },
  {
   "cell_type": "markdown",
   "id": "7d086c23",
   "metadata": {},
   "source": [
    "## Author:\n",
    "[Luis Alvarez]"
   ]
  }
 ],
 "metadata": {
  "kernelspec": {
   "display_name": "Python 3",
   "language": "python",
   "name": "python3"
  },
  "language_info": {
   "codemirror_mode": {
    "name": "ipython",
    "version": 3
   },
   "file_extension": ".py",
   "mimetype": "text/x-python",
   "name": "python",
   "nbconvert_exporter": "python",
   "pygments_lexer": "ipython3",
   "version": "3.12.0"
  }
 },
 "nbformat": 4,
 "nbformat_minor": 5
}
